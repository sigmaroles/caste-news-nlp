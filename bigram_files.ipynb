{
 "cells": [
  {
   "cell_type": "code",
   "execution_count": 22,
   "metadata": {},
   "outputs": [
    {
     "name": "stdout",
     "output_type": "stream",
     "text": [
      "1000 0:00:04.286000\n",
      "2000 0:00:04.334000\n",
      "3000 0:00:03.819000\n",
      "4000 0:00:03.764000\n",
      "5000 0:00:04.317000\n",
      "6000 0:00:03.570000\n",
      "7000 0:00:04.381000\n",
      "8000 0:00:06.004000\n",
      "9000 0:00:06.889000\n",
      "10000 0:00:06.793000\n",
      "11000 0:00:03.846000\n",
      "12000 0:00:03.387000\n",
      "13000 0:00:02.699000\n",
      "14000 0:00:03.226000\n",
      "15000 0:00:02.857000\n",
      "16000 0:00:02.367000\n",
      "17000 0:00:02.063000\n",
      "18000 0:00:02.346000\n",
      "19000 0:00:02.444000\n"
     ]
    }
   ],
   "source": [
    "from gensim.models.phrases import Phraser\n",
    "import os\n",
    "import datetime\n",
    "\n",
    "journal = 'IN-thetimesofindia'\n",
    "path_root_processed='C:\\\\Users\\\\dell\\\\Desktop\\\\Castes\\\\processed'\n",
    "path_phraser_models='C:\\\\Users\\\\dell\\\\Desktop\\\\Castes\\\\processed\\\\phraser_models\\\\'\n",
    "mypath_processed = path_root_processed +'\\\\'+journal+'\\\\'\n",
    "\n",
    "bigram = Phraser.load(path_phraser_models+journal+'_00_bigramphraser')\n",
    "text = {}\n",
    "c = 1\n",
    "d = datetime.datetime.now()\n",
    "for fname in os.listdir(mypath_processed):\n",
    "    text[fname] = []\n",
    "    for line in open(os.path.join(mypath_processed, fname)):\n",
    "        text[fname] = text[fname] + bigram[line.split()]\n",
    "    c += 1\n",
    "    if (c%1000) == 0 :\n",
    "        i = datetime.datetime.now() - d\n",
    "        d = datetime.datetime.now()\n",
    "        print c, i\n",
    "f = open(path_root_processed +'\\\\'+journal+'_processed_with_phraser.txt','w+')\n",
    "for fname in os.listdir(mypath_processed):\n",
    "    f.write(' '.join(text[fname])+' ')\n",
    "f.close()"
   ]
  },
  {
   "cell_type": "code",
   "execution_count": null,
   "metadata": {
    "collapsed": true
   },
   "outputs": [],
   "source": []
  }
 ],
 "metadata": {
  "kernelspec": {
   "display_name": "Python 2",
   "language": "python",
   "name": "python2"
  },
  "language_info": {
   "codemirror_mode": {
    "name": "ipython",
    "version": 2
   },
   "file_extension": ".py",
   "mimetype": "text/x-python",
   "name": "python",
   "nbconvert_exporter": "python",
   "pygments_lexer": "ipython2",
   "version": "2.7.14"
  }
 },
 "nbformat": 4,
 "nbformat_minor": 2
}
